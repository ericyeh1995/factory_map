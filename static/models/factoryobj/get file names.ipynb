{
 "cells": [
  {
   "cell_type": "code",
   "execution_count": 2,
   "metadata": {},
   "outputs": [
    {
     "name": "stdout",
     "output_type": "stream",
     "text": [
      "28 ['MW8.obj', 'RS11.obj', 'RS4.obj', 'RS7.obj', 'dam.obj', 'RS3.obj', 'RS2.obj', 'RS1.obj', 'B2.obj', 'STR19.obj', 'B3.obj', 'B1.obj', 'Tinning-line.obj', 'str37.obj', 'B5.obj', 'TP1.obj', 'B7.obj', 'RS9.obj', 'RS8.obj', 'B6.obj', 'e5.obj', 'FLOOR.obj', 'EX6.obj', 'EX7.obj', 'E3.obj', 'e2.obj', 'MW16.obj', 'EX1.obj']\n"
     ]
    }
   ],
   "source": [
    "import glob\n",
    "fileNames = glob.glob(\"*.obj\")\n",
    "print(len(fileNames), fileNames)"
   ]
  },
  {
   "cell_type": "code",
   "execution_count": 6,
   "metadata": {},
   "outputs": [
    {
     "name": "stdout",
     "output_type": "stream",
     "text": [
      "28 ['MW8', 'RS11', 'RS4', 'RS7', 'dam', 'RS3', 'RS2', 'RS1', 'B2', 'STR19', 'B3', 'B1', 'Tinning-line', 'str37', 'B5', 'TP1', 'B7', 'RS9', 'RS8', 'B6', 'e5', 'FLOOR', 'EX6', 'EX7', 'E3', 'e2', 'MW16', 'EX1']\n"
     ]
    }
   ],
   "source": [
    "fileNameWithoutExt = [fileName[:-4] for fileName in fileNames]\n",
    "print(len(fileNameWithoutExt), fileNameWithoutExt)"
   ]
  },
  {
   "cell_type": "code",
   "execution_count": null,
   "metadata": {},
   "outputs": [],
   "source": []
  }
 ],
 "metadata": {
  "kernelspec": {
   "display_name": "Python 3",
   "language": "python",
   "name": "python3"
  },
  "language_info": {
   "codemirror_mode": {
    "name": "ipython",
    "version": 3
   },
   "file_extension": ".py",
   "mimetype": "text/x-python",
   "name": "python",
   "nbconvert_exporter": "python",
   "pygments_lexer": "ipython3",
   "version": "3.6.3"
  }
 },
 "nbformat": 4,
 "nbformat_minor": 2
}
