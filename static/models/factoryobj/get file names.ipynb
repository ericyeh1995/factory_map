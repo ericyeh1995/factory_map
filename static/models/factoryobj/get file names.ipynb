{
 "cells": [
  {
   "cell_type": "code",
   "execution_count": 1,
   "metadata": {},
   "outputs": [
    {
     "name": "stdout",
     "output_type": "stream",
     "text": [
      "8 ['DAM.obj', 'STR19.obj', 'STR37.obj', 'TP1.obj', 'E5.obj', 'E7.obj', 'E3.obj', 'E2.obj']\n"
     ]
    }
   ],
   "source": [
    "import glob\n",
    "fileNames = glob.glob(\"*.obj\")\n",
    "print(len(fileNames), fileNames)"
   ]
  },
  {
   "cell_type": "code",
   "execution_count": 2,
   "metadata": {},
   "outputs": [
    {
     "name": "stdout",
     "output_type": "stream",
     "text": [
      "8 ['DAM', 'STR19', 'STR37', 'TP1', 'E5', 'E7', 'E3', 'E2']\n"
     ]
    }
   ],
   "source": [
    "fileNameWithoutExt = [fileName[:-4] for fileName in fileNames]\n",
    "print(len(fileNameWithoutExt), fileNameWithoutExt)"
   ]
  },
  {
   "cell_type": "code",
   "execution_count": null,
   "metadata": {},
   "outputs": [],
   "source": []
  }
 ],
 "metadata": {
  "kernelspec": {
   "display_name": "Python 3",
   "language": "python",
   "name": "python3"
  },
  "language_info": {
   "codemirror_mode": {
    "name": "ipython",
    "version": 3
   },
   "file_extension": ".py",
   "mimetype": "text/x-python",
   "name": "python",
   "nbconvert_exporter": "python",
   "pygments_lexer": "ipython3",
   "version": "3.6.3"
  }
 },
 "nbformat": 4,
 "nbformat_minor": 2
}
