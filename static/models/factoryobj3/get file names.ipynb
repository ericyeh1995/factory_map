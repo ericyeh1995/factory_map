{
 "cells": [
  {
   "cell_type": "code",
   "execution_count": 1,
   "metadata": {},
   "outputs": [
    {
     "name": "stdout",
     "output_type": "stream",
     "text": [
      "56 ['MW8.obj', '__TP1.obj', '__RS8.obj', 'RS11.obj', '__RS9.obj', '__FLOOR.obj', '__STR37.obj', 'RS4.obj', 'RS7.obj', '__EX6.obj', '__STR19.obj', 'DAM.obj', 'RS3.obj', 'RS2.obj', '__TINNING-LINE.obj', '__EX1.obj', 'RS1.obj', '__MW16.obj', 'B2.obj', '__B5.obj', 'STR19.obj', 'B3.obj', 'B1.obj', '__MW8.obj', '__B6.obj', '__B7.obj', 'TINNING-LINE.obj', '__B3.obj', '__RS11.obj', 'STR37.obj', '__B2.obj', 'B5.obj', 'TP1.obj', 'B7.obj', 'RS9.obj', 'RS8.obj', '__B1.obj', 'B6.obj', 'E5.obj', '__RS4.obj', '__E2.obj', '__E3.obj', '__RS7.obj', 'FLOOR.obj', 'EX6.obj', 'E7.obj', 'E3.obj', '__RS2.obj', '__E5.obj', '__RS3.obj', '__DAM.obj', 'E2.obj', 'MW16.obj', '__RS1.obj', '__E7.obj', 'EX1.obj']\n"
     ]
    }
   ],
   "source": [
    "import glob\n",
    "fileNames = glob.glob(\"*.obj\")\n",
    "print(len(fileNames), fileNames)"
   ]
  },
  {
   "cell_type": "code",
   "execution_count": 3,
   "metadata": {},
   "outputs": [
    {
     "name": "stdout",
     "output_type": "stream",
     "text": [
      "28 ['MW8', 'RS11', 'RS4', 'RS7', 'DAM', 'RS3', 'RS2', 'RS1', 'B2', 'STR19', 'B3', 'B1', 'TINNING-LINE', 'STR37', 'B5', 'TP1', 'B7', 'RS9', 'RS8', 'B6', 'E5', 'FLOOR', 'EX6', 'E7', 'E3', 'E2', 'MW16', 'EX1']\n"
     ]
    }
   ],
   "source": [
    "fileNameWithoutExt = [fileName[:-4] for fileName in fileNames if fileName[0] != '_']\n",
    "print(len(fileNameWithoutExt), fileNameWithoutExt)"
   ]
  },
  {
   "cell_type": "code",
   "execution_count": null,
   "metadata": {},
   "outputs": [],
   "source": []
  }
 ],
 "metadata": {
  "kernelspec": {
   "display_name": "Python 3",
   "language": "python",
   "name": "python3"
  },
  "language_info": {
   "codemirror_mode": {
    "name": "ipython",
    "version": 3
   },
   "file_extension": ".py",
   "mimetype": "text/x-python",
   "name": "python",
   "nbconvert_exporter": "python",
   "pygments_lexer": "ipython3",
   "version": "3.6.3"
  }
 },
 "nbformat": 4,
 "nbformat_minor": 2
}
