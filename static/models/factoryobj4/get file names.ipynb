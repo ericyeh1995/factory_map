{
 "cells": [
  {
   "cell_type": "code",
   "execution_count": 1,
   "metadata": {},
   "outputs": [
    {
     "name": "stdout",
     "output_type": "stream",
     "text": [
      "30 ['MW8.obj', 'RS11.obj', 'PO.obj', 'RS4.obj', 'RS7.obj', 'DAM.obj', 'RS3.obj', 'RS2.obj', 'RS1.obj', 'B2.obj', 'STR19.obj', 'B3.obj', 'B1.obj', 'Tinning-line.obj', 'STR37.obj', 'B5.obj', 'TP1.obj', 'B7.obj', 'RS9.obj', 'RS8.obj', 'B6.obj', 'E5.obj', 'E6.obj', 'Floor.obj', 'E7.obj', 'E3.obj', 'building.obj', 'E2.obj', 'MW16.obj', 'E1.obj']\n"
     ]
    }
   ],
   "source": [
    "import glob\n",
    "fileNames = glob.glob(\"*.obj\")\n",
    "print(len(fileNames), fileNames)"
   ]
  },
  {
   "cell_type": "code",
   "execution_count": 2,
   "metadata": {},
   "outputs": [
    {
     "name": "stdout",
     "output_type": "stream",
     "text": [
      "30 ['MW8', 'RS11', 'PO', 'RS4', 'RS7', 'DAM', 'RS3', 'RS2', 'RS1', 'B2', 'STR19', 'B3', 'B1', 'Tinning-line', 'STR37', 'B5', 'TP1', 'B7', 'RS9', 'RS8', 'B6', 'E5', 'E6', 'Floor', 'E7', 'E3', 'building', 'E2', 'MW16', 'E1']\n"
     ]
    }
   ],
   "source": [
    "fileNameWithoutExt = [fileName[:-4] for fileName in fileNames if fileName[0] != '_']\n",
    "print(len(fileNameWithoutExt), fileNameWithoutExt)"
   ]
  },
  {
   "cell_type": "code",
   "execution_count": null,
   "metadata": {},
   "outputs": [],
   "source": []
  }
 ],
 "metadata": {
  "kernelspec": {
   "display_name": "Python 3",
   "language": "python",
   "name": "python3"
  },
  "language_info": {
   "codemirror_mode": {
    "name": "ipython",
    "version": 3
   },
   "file_extension": ".py",
   "mimetype": "text/x-python",
   "name": "python",
   "nbconvert_exporter": "python",
   "pygments_lexer": "ipython3",
   "version": "3.6.3"
  }
 },
 "nbformat": 4,
 "nbformat_minor": 2
}
